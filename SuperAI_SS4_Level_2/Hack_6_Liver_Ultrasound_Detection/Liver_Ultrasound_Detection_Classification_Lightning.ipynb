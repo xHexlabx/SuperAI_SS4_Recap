{
 "cells": [
  {
   "cell_type": "markdown",
   "metadata": {},
   "source": [
    "# SuperAI Season 4 - Level 2 Hackathon - Liver_Ultrasound_Detection_Classification_Lightning"
   ]
  },
  {
   "cell_type": "markdown",
   "metadata": {},
   "source": [
    "## Set Annotation files for classification"
   ]
  },
  {
   "cell_type": "code",
   "execution_count": 10,
   "metadata": {},
   "outputs": [],
   "source": [
    "import glob\n",
    "import pandas as pd\n",
    "import numpy as np\n",
    "import os\n",
    "from PIL import Image\n",
    "from tqdm.notebook import tqdm"
   ]
  },
  {
   "cell_type": "code",
   "execution_count": 72,
   "metadata": {},
   "outputs": [],
   "source": [
    "annotation_for_train = {\n",
    "    'file_name' : [] ,\n",
    "    'width' : [] ,\n",
    "    'height' : [] ,\n",
    "    'class' : []\n",
    "}\n",
    "annotation_for_validation = {\n",
    "    'file_name' : [] ,\n",
    "    'width' : [] ,\n",
    "    'height' : [] ,\n",
    "    'class' : []\n",
    "}\n",
    "annotation_for_test = {\n",
    "    'file_name' : [] ,\n",
    "    'width' : [] ,\n",
    "    'height' : [] ,\n",
    "    'class' : []\n",
    "}"
   ]
  },
  {
   "cell_type": "code",
   "execution_count": 73,
   "metadata": {},
   "outputs": [],
   "source": [
    "train_labels = os.listdir('./datasets/train/labels')\n",
    "validation_labels = os.listdir('./datasets/validation/labels')\n"
   ]
  },
  {
   "cell_type": "code",
   "execution_count": 75,
   "metadata": {},
   "outputs": [
    {
     "data": {
      "application/vnd.jupyter.widget-view+json": {
       "model_id": "250a5e8dfada43f0857b9c69316d4359",
       "version_major": 2,
       "version_minor": 0
      },
      "text/plain": [
       "  0%|          | 0/14448 [00:00<?, ?it/s]"
      ]
     },
     "metadata": {},
     "output_type": "display_data"
    }
   ],
   "source": [
    "for idx , file_path in enumerate(tqdm(glob.glob('./datasets/train/images/*.jpg'))) :\n",
    "    \n",
    "    image = Image.open(file_path)\n",
    "    image = np.array(image)\n",
    "    image_shape = image.shape\n",
    "    \n",
    "    file_name = file_path.split('\\\\')[-1]\n",
    "    \n",
    "    annotation_for_train['file_name'].append(file_name)\n",
    "    annotation_for_train['width'].append(image_shape[0])\n",
    "    annotation_for_train['height'].append(image_shape[1])\n",
    "    \n",
    "    name = file_name.split('.')[0]\n",
    "    class_ = 1 if f'{name}.txt' in train_labels else 0\n",
    "    \n",
    "    annotation_for_train['class'].append(class_)"
   ]
  },
  {
   "cell_type": "code",
   "execution_count": 76,
   "metadata": {},
   "outputs": [
    {
     "data": {
      "application/vnd.jupyter.widget-view+json": {
       "model_id": "dd07886867ff49d7ad963a0dfeddd4ed",
       "version_major": 2,
       "version_minor": 0
      },
      "text/plain": [
       "  0%|          | 0/2812 [00:00<?, ?it/s]"
      ]
     },
     "metadata": {},
     "output_type": "display_data"
    }
   ],
   "source": [
    "for idx , file_path in enumerate(tqdm(glob.glob('./datasets/validation/images/*.jpg'))) :\n",
    "    \n",
    "    image = Image.open(file_path)\n",
    "    image = np.array(image)\n",
    "    image_shape = image.shape\n",
    "    \n",
    "    file_name = file_path.split('\\\\')[-1]\n",
    "    \n",
    "    annotation_for_validation['file_name'].append(file_name)\n",
    "    annotation_for_validation['width'].append(image_shape[0])\n",
    "    annotation_for_validation['height'].append(image_shape[1])\n",
    "    \n",
    "    name = file_name.split('.')[0]\n",
    "    class_ = 1 if f'{name}.txt' in validation_labels else 0\n",
    "    \n",
    "    annotation_for_validation['class'].append(class_)"
   ]
  },
  {
   "cell_type": "code",
   "execution_count": 77,
   "metadata": {},
   "outputs": [
    {
     "data": {
      "application/vnd.jupyter.widget-view+json": {
       "model_id": "361dbf0d01b244bfa0c26e016f5d5b05",
       "version_major": 2,
       "version_minor": 0
      },
      "text/plain": [
       "  0%|          | 0/5153 [00:00<?, ?it/s]"
      ]
     },
     "metadata": {},
     "output_type": "display_data"
    }
   ],
   "source": [
    "for idx , file_path in enumerate(tqdm(glob.glob('./datasets/test/images/*.jpg'))) :\n",
    "    \n",
    "    image = Image.open(file_path)\n",
    "    image = np.array(image)\n",
    "    image_shape = image.shape\n",
    "    \n",
    "    file_name = file_path.split('\\\\')[-1]\n",
    "    \n",
    "    annotation_for_test['file_name'].append(file_name)\n",
    "    annotation_for_test['width'].append(image_shape[0])\n",
    "    annotation_for_test['height'].append(image_shape[1])\n",
    "    \n",
    "    name = file_name.split('.')[0]\n",
    "    class_ = 0\n",
    "    \n",
    "    annotation_for_test['class'].append(class_)"
   ]
  },
  {
   "cell_type": "code",
   "execution_count": 78,
   "metadata": {},
   "outputs": [],
   "source": [
    "annotation_for_train_df = pd.DataFrame.from_dict(annotation_for_train)\n",
    "annotation_for_validation_df = pd.DataFrame.from_dict(annotation_for_validation)\n",
    "annotation_for_test_df = pd.DataFrame.from_dict(annotation_for_test)"
   ]
  },
  {
   "cell_type": "code",
   "execution_count": 79,
   "metadata": {},
   "outputs": [
    {
     "data": {
      "text/html": [
       "<div>\n",
       "<style scoped>\n",
       "    .dataframe tbody tr th:only-of-type {\n",
       "        vertical-align: middle;\n",
       "    }\n",
       "\n",
       "    .dataframe tbody tr th {\n",
       "        vertical-align: top;\n",
       "    }\n",
       "\n",
       "    .dataframe thead th {\n",
       "        text-align: right;\n",
       "    }\n",
       "</style>\n",
       "<table border=\"1\" class=\"dataframe\">\n",
       "  <thead>\n",
       "    <tr style=\"text-align: right;\">\n",
       "      <th></th>\n",
       "      <th>file_name</th>\n",
       "      <th>width</th>\n",
       "      <th>height</th>\n",
       "      <th>class</th>\n",
       "    </tr>\n",
       "  </thead>\n",
       "  <tbody>\n",
       "    <tr>\n",
       "      <th>0</th>\n",
       "      <td>100010.jpg</td>\n",
       "      <td>810</td>\n",
       "      <td>1080</td>\n",
       "      <td>1</td>\n",
       "    </tr>\n",
       "    <tr>\n",
       "      <th>1</th>\n",
       "      <td>100022.jpg</td>\n",
       "      <td>810</td>\n",
       "      <td>1080</td>\n",
       "      <td>1</td>\n",
       "    </tr>\n",
       "    <tr>\n",
       "      <th>2</th>\n",
       "      <td>100024.jpg</td>\n",
       "      <td>540</td>\n",
       "      <td>720</td>\n",
       "      <td>1</td>\n",
       "    </tr>\n",
       "    <tr>\n",
       "      <th>3</th>\n",
       "      <td>100034.jpg</td>\n",
       "      <td>810</td>\n",
       "      <td>1080</td>\n",
       "      <td>1</td>\n",
       "    </tr>\n",
       "    <tr>\n",
       "      <th>4</th>\n",
       "      <td>100047.jpg</td>\n",
       "      <td>405</td>\n",
       "      <td>540</td>\n",
       "      <td>0</td>\n",
       "    </tr>\n",
       "    <tr>\n",
       "      <th>...</th>\n",
       "      <td>...</td>\n",
       "      <td>...</td>\n",
       "      <td>...</td>\n",
       "      <td>...</td>\n",
       "    </tr>\n",
       "    <tr>\n",
       "      <th>15198</th>\n",
       "      <td>99975.jpg</td>\n",
       "      <td>540</td>\n",
       "      <td>720</td>\n",
       "      <td>0</td>\n",
       "    </tr>\n",
       "    <tr>\n",
       "      <th>15199</th>\n",
       "      <td>99977.jpg</td>\n",
       "      <td>810</td>\n",
       "      <td>1080</td>\n",
       "      <td>1</td>\n",
       "    </tr>\n",
       "    <tr>\n",
       "      <th>15200</th>\n",
       "      <td>99989.jpg</td>\n",
       "      <td>720</td>\n",
       "      <td>960</td>\n",
       "      <td>0</td>\n",
       "    </tr>\n",
       "    <tr>\n",
       "      <th>15201</th>\n",
       "      <td>99991.jpg</td>\n",
       "      <td>810</td>\n",
       "      <td>1080</td>\n",
       "      <td>0</td>\n",
       "    </tr>\n",
       "    <tr>\n",
       "      <th>15202</th>\n",
       "      <td>99993.jpg</td>\n",
       "      <td>540</td>\n",
       "      <td>720</td>\n",
       "      <td>0</td>\n",
       "    </tr>\n",
       "  </tbody>\n",
       "</table>\n",
       "<p>15203 rows × 4 columns</p>\n",
       "</div>"
      ],
      "text/plain": [
       "        file_name  width  height  class\n",
       "0      100010.jpg    810    1080      1\n",
       "1      100022.jpg    810    1080      1\n",
       "2      100024.jpg    540     720      1\n",
       "3      100034.jpg    810    1080      1\n",
       "4      100047.jpg    405     540      0\n",
       "...           ...    ...     ...    ...\n",
       "15198   99975.jpg    540     720      0\n",
       "15199   99977.jpg    810    1080      1\n",
       "15200   99989.jpg    720     960      0\n",
       "15201   99991.jpg    810    1080      0\n",
       "15202   99993.jpg    540     720      0\n",
       "\n",
       "[15203 rows x 4 columns]"
      ]
     },
     "execution_count": 79,
     "metadata": {},
     "output_type": "execute_result"
    }
   ],
   "source": [
    "annotation_for_train_df"
   ]
  },
  {
   "cell_type": "code",
   "execution_count": 80,
   "metadata": {},
   "outputs": [
    {
     "data": {
      "text/plain": [
       "class\n",
       "0    7607\n",
       "1    7596\n",
       "Name: count, dtype: int64"
      ]
     },
     "execution_count": 80,
     "metadata": {},
     "output_type": "execute_result"
    }
   ],
   "source": [
    "annotation_for_train_df['class'].value_counts()"
   ]
  },
  {
   "cell_type": "code",
   "execution_count": 81,
   "metadata": {},
   "outputs": [
    {
     "data": {
      "text/html": [
       "<div>\n",
       "<style scoped>\n",
       "    .dataframe tbody tr th:only-of-type {\n",
       "        vertical-align: middle;\n",
       "    }\n",
       "\n",
       "    .dataframe tbody tr th {\n",
       "        vertical-align: top;\n",
       "    }\n",
       "\n",
       "    .dataframe thead th {\n",
       "        text-align: right;\n",
       "    }\n",
       "</style>\n",
       "<table border=\"1\" class=\"dataframe\">\n",
       "  <thead>\n",
       "    <tr style=\"text-align: right;\">\n",
       "      <th></th>\n",
       "      <th>file_name</th>\n",
       "      <th>width</th>\n",
       "      <th>height</th>\n",
       "      <th>class</th>\n",
       "    </tr>\n",
       "  </thead>\n",
       "  <tbody>\n",
       "    <tr>\n",
       "      <th>0</th>\n",
       "      <td>100.jpg</td>\n",
       "      <td>3024</td>\n",
       "      <td>4032</td>\n",
       "      <td>1</td>\n",
       "    </tr>\n",
       "    <tr>\n",
       "      <th>1</th>\n",
       "      <td>100006.jpg</td>\n",
       "      <td>810</td>\n",
       "      <td>1080</td>\n",
       "      <td>0</td>\n",
       "    </tr>\n",
       "    <tr>\n",
       "      <th>2</th>\n",
       "      <td>1001.jpg</td>\n",
       "      <td>3024</td>\n",
       "      <td>4032</td>\n",
       "      <td>1</td>\n",
       "    </tr>\n",
       "    <tr>\n",
       "      <th>3</th>\n",
       "      <td>100103.jpg</td>\n",
       "      <td>405</td>\n",
       "      <td>540</td>\n",
       "      <td>1</td>\n",
       "    </tr>\n",
       "    <tr>\n",
       "      <th>4</th>\n",
       "      <td>100171.jpg</td>\n",
       "      <td>810</td>\n",
       "      <td>1080</td>\n",
       "      <td>0</td>\n",
       "    </tr>\n",
       "    <tr>\n",
       "      <th>...</th>\n",
       "      <td>...</td>\n",
       "      <td>...</td>\n",
       "      <td>...</td>\n",
       "      <td>...</td>\n",
       "    </tr>\n",
       "    <tr>\n",
       "      <th>2807</th>\n",
       "      <td>40654.jpg</td>\n",
       "      <td>810</td>\n",
       "      <td>1080</td>\n",
       "      <td>1</td>\n",
       "    </tr>\n",
       "    <tr>\n",
       "      <th>2808</th>\n",
       "      <td>40655.jpg</td>\n",
       "      <td>540</td>\n",
       "      <td>720</td>\n",
       "      <td>0</td>\n",
       "    </tr>\n",
       "    <tr>\n",
       "      <th>2809</th>\n",
       "      <td>4067.jpg</td>\n",
       "      <td>3024</td>\n",
       "      <td>4032</td>\n",
       "      <td>0</td>\n",
       "    </tr>\n",
       "    <tr>\n",
       "      <th>2810</th>\n",
       "      <td>4068.jpg</td>\n",
       "      <td>3024</td>\n",
       "      <td>4032</td>\n",
       "      <td>0</td>\n",
       "    </tr>\n",
       "    <tr>\n",
       "      <th>2811</th>\n",
       "      <td>4074.jpg</td>\n",
       "      <td>3024</td>\n",
       "      <td>4032</td>\n",
       "      <td>0</td>\n",
       "    </tr>\n",
       "  </tbody>\n",
       "</table>\n",
       "<p>2812 rows × 4 columns</p>\n",
       "</div>"
      ],
      "text/plain": [
       "       file_name  width  height  class\n",
       "0        100.jpg   3024    4032      1\n",
       "1     100006.jpg    810    1080      0\n",
       "2       1001.jpg   3024    4032      1\n",
       "3     100103.jpg    405     540      1\n",
       "4     100171.jpg    810    1080      0\n",
       "...          ...    ...     ...    ...\n",
       "2807   40654.jpg    810    1080      1\n",
       "2808   40655.jpg    540     720      0\n",
       "2809    4067.jpg   3024    4032      0\n",
       "2810    4068.jpg   3024    4032      0\n",
       "2811    4074.jpg   3024    4032      0\n",
       "\n",
       "[2812 rows x 4 columns]"
      ]
     },
     "execution_count": 81,
     "metadata": {},
     "output_type": "execute_result"
    }
   ],
   "source": [
    "annotation_for_validation_df"
   ]
  },
  {
   "cell_type": "code",
   "execution_count": 82,
   "metadata": {},
   "outputs": [
    {
     "data": {
      "text/plain": [
       "class\n",
       "0    1457\n",
       "1    1355\n",
       "Name: count, dtype: int64"
      ]
     },
     "execution_count": 82,
     "metadata": {},
     "output_type": "execute_result"
    }
   ],
   "source": [
    "annotation_for_validation_df['class'].value_counts()"
   ]
  },
  {
   "cell_type": "code",
   "execution_count": 83,
   "metadata": {},
   "outputs": [
    {
     "data": {
      "text/html": [
       "<div>\n",
       "<style scoped>\n",
       "    .dataframe tbody tr th:only-of-type {\n",
       "        vertical-align: middle;\n",
       "    }\n",
       "\n",
       "    .dataframe tbody tr th {\n",
       "        vertical-align: top;\n",
       "    }\n",
       "\n",
       "    .dataframe thead th {\n",
       "        text-align: right;\n",
       "    }\n",
       "</style>\n",
       "<table border=\"1\" class=\"dataframe\">\n",
       "  <thead>\n",
       "    <tr style=\"text-align: right;\">\n",
       "      <th></th>\n",
       "      <th>file_name</th>\n",
       "      <th>width</th>\n",
       "      <th>height</th>\n",
       "      <th>class</th>\n",
       "    </tr>\n",
       "  </thead>\n",
       "  <tbody>\n",
       "    <tr>\n",
       "      <th>0</th>\n",
       "      <td>1.jpg</td>\n",
       "      <td>3024</td>\n",
       "      <td>4032</td>\n",
       "      <td>0</td>\n",
       "    </tr>\n",
       "    <tr>\n",
       "      <th>1</th>\n",
       "      <td>10.jpg</td>\n",
       "      <td>3024</td>\n",
       "      <td>4032</td>\n",
       "      <td>0</td>\n",
       "    </tr>\n",
       "    <tr>\n",
       "      <th>2</th>\n",
       "      <td>1000.jpg</td>\n",
       "      <td>3024</td>\n",
       "      <td>4032</td>\n",
       "      <td>0</td>\n",
       "    </tr>\n",
       "    <tr>\n",
       "      <th>3</th>\n",
       "      <td>10001.jpg</td>\n",
       "      <td>810</td>\n",
       "      <td>1080</td>\n",
       "      <td>0</td>\n",
       "    </tr>\n",
       "    <tr>\n",
       "      <th>4</th>\n",
       "      <td>100077.jpg</td>\n",
       "      <td>540</td>\n",
       "      <td>720</td>\n",
       "      <td>0</td>\n",
       "    </tr>\n",
       "    <tr>\n",
       "      <th>...</th>\n",
       "      <td>...</td>\n",
       "      <td>...</td>\n",
       "      <td>...</td>\n",
       "      <td>...</td>\n",
       "    </tr>\n",
       "    <tr>\n",
       "      <th>5148</th>\n",
       "      <td>998.jpg</td>\n",
       "      <td>3024</td>\n",
       "      <td>4032</td>\n",
       "      <td>0</td>\n",
       "    </tr>\n",
       "    <tr>\n",
       "      <th>5149</th>\n",
       "      <td>99805.jpg</td>\n",
       "      <td>3024</td>\n",
       "      <td>4032</td>\n",
       "      <td>0</td>\n",
       "    </tr>\n",
       "    <tr>\n",
       "      <th>5150</th>\n",
       "      <td>9982.jpg</td>\n",
       "      <td>3024</td>\n",
       "      <td>4032</td>\n",
       "      <td>0</td>\n",
       "    </tr>\n",
       "    <tr>\n",
       "      <th>5151</th>\n",
       "      <td>999.jpg</td>\n",
       "      <td>3024</td>\n",
       "      <td>4032</td>\n",
       "      <td>0</td>\n",
       "    </tr>\n",
       "    <tr>\n",
       "      <th>5152</th>\n",
       "      <td>99965.jpg</td>\n",
       "      <td>3024</td>\n",
       "      <td>4032</td>\n",
       "      <td>0</td>\n",
       "    </tr>\n",
       "  </tbody>\n",
       "</table>\n",
       "<p>5153 rows × 4 columns</p>\n",
       "</div>"
      ],
      "text/plain": [
       "       file_name  width  height  class\n",
       "0          1.jpg   3024    4032      0\n",
       "1         10.jpg   3024    4032      0\n",
       "2       1000.jpg   3024    4032      0\n",
       "3      10001.jpg    810    1080      0\n",
       "4     100077.jpg    540     720      0\n",
       "...          ...    ...     ...    ...\n",
       "5148     998.jpg   3024    4032      0\n",
       "5149   99805.jpg   3024    4032      0\n",
       "5150    9982.jpg   3024    4032      0\n",
       "5151     999.jpg   3024    4032      0\n",
       "5152   99965.jpg   3024    4032      0\n",
       "\n",
       "[5153 rows x 4 columns]"
      ]
     },
     "execution_count": 83,
     "metadata": {},
     "output_type": "execute_result"
    }
   ],
   "source": [
    "annotation_for_test_df"
   ]
  },
  {
   "cell_type": "code",
   "execution_count": 85,
   "metadata": {},
   "outputs": [],
   "source": [
    "annotation_for_train_df.to_csv('./datasets/annotations/annotation_for_train_datasets.csv' , index = False)\n",
    "annotation_for_validation_df.to_csv('./datasets/annotations/annotation_for_validation_datasets.csv' , index = False)\n",
    "annotation_for_test_df.to_csv('./datasets/annotations/annotation_for_test_datasets.csv' , index = False)"
   ]
  },
  {
   "cell_type": "markdown",
   "metadata": {},
   "source": [
    "## Dataloader for lesion (1) , non lesion (0) dataset"
   ]
  },
  {
   "cell_type": "code",
   "execution_count": 1,
   "metadata": {},
   "outputs": [],
   "source": [
    "import torch\n",
    "from torch.utils.data import Dataset\n",
    "from torchvision.transforms import Lambda\n",
    "from torch.utils.data import DataLoader\n"
   ]
  },
  {
   "cell_type": "code",
   "execution_count": 2,
   "metadata": {},
   "outputs": [],
   "source": [
    "import timm\n",
    "import timm.optim\n",
    "import timm.scheduler\n",
    "from PIL import Image\n",
    "import pandas as pd"
   ]
  },
  {
   "cell_type": "code",
   "execution_count": 3,
   "metadata": {},
   "outputs": [],
   "source": [
    "class lesion_nonlesion_dataset (Dataset) :\n",
    "    \n",
    "    def __init__ (self , dataset_path, annotation_path , transform = None , target_transform = None) :\n",
    "        \n",
    "        super().__init__() \n",
    "        \n",
    "        self.dataset_path = dataset_path\n",
    "        self.annotation_path = annotation_path\n",
    "        self.annotation_df = pd.read_csv(annotation_path)\n",
    "        \n",
    "        self.transform = transform\n",
    "        self.target_transform = target_transform\n",
    "        \n",
    "    def __len__ (self)  :\n",
    "        \n",
    "        return len(self.annotation_df)\n",
    "    \n",
    "    def __getitem__ (self , idx) :\n",
    "        \n",
    "        file_name = self.annotation_df.iloc[idx]['file_name']\n",
    "        \n",
    "        image = Image.open( f'{self.dataset_path}/{file_name}' )\n",
    "        image = image.convert('L')\n",
    "        image = np.array(image)\n",
    "        image = np.stack( image * 3 , axis = -1)\n",
    "\n",
    "        label = self.annotation_df.iloc[idx]['class']\n",
    "        \n",
    "\n",
    "        if self.transform :\n",
    "            \n",
    "            image = self.transform(image)\n",
    "        \n",
    "        if self.target_transform :\n",
    "            \n",
    "            label = self.target_transform(label)\n",
    "            \n",
    "        return image , label"
   ]
  },
  {
   "cell_type": "code",
   "execution_count": 4,
   "metadata": {},
   "outputs": [],
   "source": [
    "train_data_path = './datasets/train/images'\n",
    "validation_data_path = './datasets/validation/images'\n",
    "test_data_path = './datasets/test/images'"
   ]
  },
  {
   "cell_type": "code",
   "execution_count": 5,
   "metadata": {},
   "outputs": [],
   "source": [
    "train_annotation_path = './datasets/annotations/annotation_for_train_datasets.csv'\n",
    "validation_annotation_path = './datasets/annotations/annotation_for_validation_datasets.csv'\n",
    "test_annotation_path = './datasets/annotations/annotation_for_test_datasets.csv'"
   ]
  },
  {
   "cell_type": "code",
   "execution_count": 6,
   "metadata": {},
   "outputs": [],
   "source": [
    "device = torch.device(\"cuda\" if torch.cuda.is_available() else \"cpu\")\n",
    "model_name = \"timm/maxvit_tiny_tf_224.in1k\"\n",
    "model = timm.create_model(model_name, pretrained = True, num_classes = 1).to(device)"
   ]
  },
  {
   "cell_type": "code",
   "execution_count": 7,
   "metadata": {},
   "outputs": [
    {
     "data": {
      "text/plain": [
       "device(type='cpu')"
      ]
     },
     "execution_count": 7,
     "metadata": {},
     "output_type": "execute_result"
    }
   ],
   "source": [
    "device"
   ]
  },
  {
   "cell_type": "code",
   "execution_count": 8,
   "metadata": {},
   "outputs": [],
   "source": [
    "data_config = timm.data.resolve_model_data_config(model)\n",
    "transform = timm.data.create_transform(** data_config , is_training = True)\n",
    "target_transform = Lambda(lambda y: torch.tensor(y, dtype=torch.float32))"
   ]
  },
  {
   "cell_type": "code",
   "execution_count": 9,
   "metadata": {},
   "outputs": [],
   "source": [
    "train_dataset = lesion_nonlesion_dataset(train_data_path , train_annotation_path , transform = transform , target_transform = target_transform)\n",
    "validation_dataset = lesion_nonlesion_dataset(validation_data_path , validation_annotation_path , transform = transform , target_transform = target_transform)\n",
    "test_dataset = lesion_nonlesion_dataset(test_data_path , test_annotation_path , transform = transform , target_transform = target_transform)"
   ]
  },
  {
   "cell_type": "code",
   "execution_count": 10,
   "metadata": {},
   "outputs": [],
   "source": [
    "train_dataloader = DataLoader(train_dataset , batch_size = 16 , shuffle = True , num_workers = 16 , persistent_workers=True)\n",
    "validation_dataloader = DataLoader(validation_dataset , batch_size = 16 , shuffle = False, num_workers = 16, persistent_workers=True)\n",
    "test_dataloader = DataLoader(test_dataset , batch_size = 16 , shuffle = False, num_workers = 16, persistent_workers=True)"
   ]
  },
  {
   "cell_type": "code",
   "execution_count": 11,
   "metadata": {},
   "outputs": [],
   "source": [
    "# for images , labels in train_dataloader :\n",
    "    \n",
    "#     print(images.shape, labels.shape)\n",
    "    \n",
    "#     break"
   ]
  },
  {
   "cell_type": "markdown",
   "metadata": {},
   "source": [
    "## ⚡ MaxVit - Torch Lightning ⚡"
   ]
  },
  {
   "cell_type": "code",
   "execution_count": 12,
   "metadata": {},
   "outputs": [],
   "source": [
    "import torch\n",
    "from torch import nn\n",
    "import torch.nn.functional as F\n",
    "from torch.utils.data import DataLoader , random_split\n",
    "import lightning as L\n",
    "from torch.utils.data import Dataset\n",
    "import pandas as pd\n",
    "import torchmetrics"
   ]
  },
  {
   "cell_type": "code",
   "execution_count": 13,
   "metadata": {},
   "outputs": [],
   "source": [
    "class lesion_nonlesion_classifier(L.LightningModule):\n",
    "    \n",
    "    def __init__(self , pretrained_model):\n",
    "        \n",
    "        super().__init__()\n",
    "        \n",
    "        self.pretrained_model  = pretrained_model\n",
    "        \n",
    "        self.train_accuracy = torchmetrics.Accuracy(task='binary')\n",
    "        self.val_accuracy = torchmetrics.Accuracy(task='binary')\n",
    "        self.test_accuracy = torchmetrics.Accuracy(task='binary')\n",
    "        \n",
    "\n",
    "    def forward(self , x) :\n",
    "        \n",
    "        y_hat = self.pretrained_model(x)\n",
    "        \n",
    "        return  y_hat\n",
    "    \n",
    "    def training_step(self, batch, batch_idx):\n",
    "        \n",
    "        x , y = batch\n",
    "        \n",
    "        y_hat = self(x.to(device))\n",
    "        \n",
    "        loss = F.binary_cross_entropy_with_logits(y_hat.squeeze() , y.to(device))\n",
    "        acc = self.train_accuracy(y_hat.squeeze(), y)\n",
    "        \n",
    "        self.log('train_loss', loss, on_step=True, on_epoch=True, prog_bar=True)\n",
    "        self.log('train_acc', acc, on_step=True, on_epoch=True, prog_bar=True)\n",
    "        \n",
    "        return loss\n",
    "    \n",
    "    def validation_step(self, batch, batch_idx):\n",
    "        \n",
    "        x , y = batch\n",
    "        \n",
    "        y_hat = self(x)\n",
    "        \n",
    "        val_loss = F.binary_cross_entropy_with_logits(y_hat.squeeze(), y.to(device))\n",
    "        val_acc = self.val_accuracy(y_hat.squeeze(), y.to(device))\n",
    "        \n",
    "        self.log('val_loss', val_loss, on_step = True, on_epoch = True, prog_bar = True)\n",
    "        self.log('val_acc', val_acc, on_step = True, on_epoch = True, prog_bar = True)\n",
    "        \n",
    "    def test_step(self, batch, batch_idx):\n",
    "        \n",
    "        x , y = batch\n",
    "        y_hat = self(x)\n",
    "        \n",
    "        test_loss = F.binary_cross_entropy_with_logits(y_hat.squeeze() , y)\n",
    "        test_acc = self.test_accuracy(y_hat.squeeze(), y.to(device))\n",
    "        \n",
    "        self.log('test_loss', test_loss, on_step=True, on_epoch=True, prog_bar=True)\n",
    "        self.log('test_acc', test_acc, on_step=True, on_epoch=True, prog_bar=True)\n",
    "\n",
    "    def configure_optimizers(self):\n",
    "        \n",
    "        optimizer = torch.optim.AdamW(self.parameters(), lr = 1e-4)\n",
    "        scheduler = torch.optim.lr_scheduler.StepLR(optimizer, step_size = 10, gamma=0.1)\n",
    "        \n",
    "        return [optimizer], [scheduler]"
   ]
  },
  {
   "cell_type": "code",
   "execution_count": 14,
   "metadata": {},
   "outputs": [],
   "source": [
    "lesion_nonlesion_classifier_model = lesion_nonlesion_classifier(model)"
   ]
  },
  {
   "cell_type": "code",
   "execution_count": 15,
   "metadata": {},
   "outputs": [
    {
     "name": "stderr",
     "output_type": "stream",
     "text": [
      "GPU available: False, used: False\n",
      "TPU available: False, using: 0 TPU cores\n",
      "IPU available: False, using: 0 IPUs\n",
      "HPU available: False, using: 0 HPUs\n",
      "\n",
      "  | Name             | Type           | Params\n",
      "----------------------------------------------------\n",
      "0 | pretrained_model | MaxxVit        | 30.4 M\n",
      "1 | train_accuracy   | BinaryAccuracy | 0     \n",
      "2 | val_accuracy     | BinaryAccuracy | 0     \n",
      "3 | test_accuracy    | BinaryAccuracy | 0     \n",
      "----------------------------------------------------\n",
      "30.4 M    Trainable params\n",
      "0         Non-trainable params\n",
      "30.4 M    Total params\n",
      "121.616   Total estimated model params size (MB)\n"
     ]
    },
    {
     "data": {
      "application/vnd.jupyter.widget-view+json": {
       "model_id": "8915076c732d48a79adddb47c6b9760a",
       "version_major": 2,
       "version_minor": 0
      },
      "text/plain": [
       "Sanity Checking: |          | 0/? [00:00<?, ?it/s]"
      ]
     },
     "metadata": {},
     "output_type": "display_data"
    }
   ],
   "source": [
    "trainer = L.Trainer(max_epochs = 25)\n",
    "trainer.fit(model = lesion_nonlesion_classifier_model, train_dataloaders = train_dataloader, val_dataloaders = validation_dataloader )"
   ]
  }
 ],
 "metadata": {
  "kernelspec": {
   "display_name": "Python 3",
   "language": "python",
   "name": "python3"
  },
  "language_info": {
   "codemirror_mode": {
    "name": "ipython",
    "version": 3
   },
   "file_extension": ".py",
   "mimetype": "text/x-python",
   "name": "python",
   "nbconvert_exporter": "python",
   "pygments_lexer": "ipython3",
   "version": "3.11.7"
  }
 },
 "nbformat": 4,
 "nbformat_minor": 2
}
