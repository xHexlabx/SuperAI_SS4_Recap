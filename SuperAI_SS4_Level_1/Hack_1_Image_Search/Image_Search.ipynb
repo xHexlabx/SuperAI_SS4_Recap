{
  "cells": [
    {
      "cell_type": "markdown",
      "metadata": {
        "id": "view-in-github",
        "colab_type": "text"
      },
      "source": [
        "<a href=\"https://colab.research.google.com/github/xHexlabx/SuperAI_SS4_Recap/blob/main/SuperAI_SS4_Level_1/Hack_1_Image_Search/Image_Search.ipynb\" target=\"_parent\"><img src=\"https://colab.research.google.com/assets/colab-badge.svg\" alt=\"Open In Colab\"/></a>"
      ]
    },
    {
      "cell_type": "markdown",
      "metadata": {
        "id": "5D4EeLyI2HnZ"
      },
      "source": [
        "# SuperAI Season 4 - Level 1 Hackathon - Image Search"
      ]
    },
    {
      "cell_type": "markdown",
      "source": [
        "# Mounting Drive"
      ],
      "metadata": {
        "id": "DtMaUFO82WJj"
      }
    },
    {
      "cell_type": "code",
      "source": [
        "from google.colab import drive\n",
        "drive.mount('/content/drive/')"
      ],
      "metadata": {
        "colab": {
          "base_uri": "https://localhost:8080/"
        },
        "id": "3BuZNIQT2V8n",
        "outputId": "df417026-ddaf-43a9-cf7a-38a256c02de3"
      },
      "execution_count": 34,
      "outputs": [
        {
          "output_type": "stream",
          "name": "stdout",
          "text": [
            "Drive already mounted at /content/drive/; to attempt to forcibly remount, call drive.mount(\"/content/drive/\", force_remount=True).\n"
          ]
        }
      ]
    },
    {
      "cell_type": "markdown",
      "source": [
        "# Kaggle"
      ],
      "metadata": {
        "id": "KpjoLqFf2chI"
      }
    },
    {
      "cell_type": "code",
      "source": [
        "!pip install -q kaggle"
      ],
      "metadata": {
        "id": "idB9LrQP2eJF"
      },
      "execution_count": 35,
      "outputs": []
    },
    {
      "cell_type": "code",
      "source": [
        "#kaggle setting for competition\n",
        "from google.colab import userdata\n",
        "\n",
        "username = userdata.get('KAGGLE_USER')\n",
        "key = userdata.get('KAGGLE_KEY')\n",
        "# Echo the credentials into the kaggle.json file\n",
        "!mkdir -p ~/.kaggle\n",
        "!echo '{{\"username\":\"{username}\",\"key\":\"{key}\"}}' > ~/.kaggle/kaggle.json\n",
        "!chmod 600 /root/.kaggle/kaggle.json"
      ],
      "metadata": {
        "id": "coSqeEHt2fWI"
      },
      "execution_count": 36,
      "outputs": []
    },
    {
      "cell_type": "markdown",
      "source": [
        "# Explore Datasets"
      ],
      "metadata": {
        "id": "qhLRzDPlKT9N"
      }
    },
    {
      "cell_type": "code",
      "source": [
        "import cv2\n",
        "import numpy as np"
      ],
      "metadata": {
        "id": "AsXt70YNKbBE"
      },
      "execution_count": 37,
      "outputs": []
    },
    {
      "cell_type": "code",
      "source": [
        "def refine_image (image) :\n",
        "\n",
        "    width = 336\n",
        "    height = 336\n",
        "\n",
        "    image = cv2.cvtColor(image, cv2.COLOR_BGR2RGB)\n",
        "    image = cv2.resize(image , (width , height))\n",
        "    image = np.array(image)[: , : , 0 : 3]\n",
        "\n",
        "    return image"
      ],
      "metadata": {
        "id": "fjXdsWKQPKhf"
      },
      "execution_count": 38,
      "outputs": []
    },
    {
      "cell_type": "code",
      "source": [
        "refined_image_path = '/content/drive/MyDrive/SuperAI_SS4/Hackathons/SuperAI_SS4_Level_1/Hack_1_Image_Search/datasets/queries/refined_queries'\n",
        "\n",
        "for i in range(22) :\n",
        "\n",
        "    image = cv2.imread(f'/content/drive/MyDrive/SuperAI_SS4/Hackathons/SuperAI_SS4_Level_1/Hack_1_Image_Search/datasets/queries/queries/{i}.jpg')\n",
        "\n",
        "    resized_image = refine_image(image)\n",
        "\n",
        "    with open(f'{refined_image_path}/{i}.npy' , 'wb') as file :\n",
        "\n",
        "        np.save(file , resized_image)"
      ],
      "metadata": {
        "id": "y6gcl4clOmM0"
      },
      "execution_count": 39,
      "outputs": []
    },
    {
      "cell_type": "markdown",
      "metadata": {
        "id": "CAspHAXL2Hna"
      },
      "source": [
        "# CLIP VisionModel For Encode Image"
      ]
    },
    {
      "cell_type": "code",
      "source": [
        "!nvidia-smi"
      ],
      "metadata": {
        "colab": {
          "base_uri": "https://localhost:8080/"
        },
        "id": "0Ylhc8rY7GGw",
        "outputId": "86f208e2-0aac-4fbe-cfb2-6d2c99942d4c"
      },
      "execution_count": 40,
      "outputs": [
        {
          "output_type": "stream",
          "name": "stdout",
          "text": [
            "Sun May 26 12:54:50 2024       \n",
            "+---------------------------------------------------------------------------------------+\n",
            "| NVIDIA-SMI 535.104.05             Driver Version: 535.104.05   CUDA Version: 12.2     |\n",
            "|-----------------------------------------+----------------------+----------------------+\n",
            "| GPU  Name                 Persistence-M | Bus-Id        Disp.A | Volatile Uncorr. ECC |\n",
            "| Fan  Temp   Perf          Pwr:Usage/Cap |         Memory-Usage | GPU-Util  Compute M. |\n",
            "|                                         |                      |               MIG M. |\n",
            "|=========================================+======================+======================|\n",
            "|   0  NVIDIA L4                      Off | 00000000:00:03.0 Off |                    0 |\n",
            "| N/A   58C    P0              30W /  72W |  15155MiB / 23034MiB |      0%      Default |\n",
            "|                                         |                      |                  N/A |\n",
            "+-----------------------------------------+----------------------+----------------------+\n",
            "                                                                                         \n",
            "+---------------------------------------------------------------------------------------+\n",
            "| Processes:                                                                            |\n",
            "|  GPU   GI   CI        PID   Type   Process name                            GPU Memory |\n",
            "|        ID   ID                                                             Usage      |\n",
            "|=======================================================================================|\n",
            "+---------------------------------------------------------------------------------------+\n"
          ]
        }
      ]
    },
    {
      "cell_type": "code",
      "execution_count": 41,
      "metadata": {
        "id": "vxlaMwsc2Hna"
      },
      "outputs": [],
      "source": [
        "from PIL import Image\n",
        "import requests\n",
        "from transformers import AutoProcessor, CLIPModel\n",
        "import torch"
      ]
    },
    {
      "cell_type": "code",
      "execution_count": 42,
      "metadata": {
        "id": "trKKpB1d2Hnb",
        "colab": {
          "base_uri": "https://localhost:8080/"
        },
        "outputId": "ca703be7-db70-4825-b0c6-6ab6b82b79c5"
      },
      "outputs": [
        {
          "output_type": "stream",
          "name": "stderr",
          "text": [
            "/usr/local/lib/python3.10/dist-packages/huggingface_hub/file_download.py:1132: FutureWarning: `resume_download` is deprecated and will be removed in version 1.0.0. Downloads always resume when possible. If you want to force a new download, use `force_download=True`.\n",
            "  warnings.warn(\n"
          ]
        }
      ],
      "source": [
        "device = \"cuda\" if torch.cuda.is_available() else \"cpu\"\n",
        "\n",
        "model = CLIPModel.from_pretrained('openai/clip-vit-large-patch14')\n",
        "processor = AutoProcessor.from_pretrained('openai/clip-vit-large-patch14')"
      ]
    },
    {
      "cell_type": "code",
      "execution_count": 43,
      "metadata": {
        "id": "Xl9RkKNr2Hnc"
      },
      "outputs": [],
      "source": [
        "url = \"http://images.cocodataset.org/val2017/000000039769.jpg\"\n",
        "image = Image.open(requests.get(url, stream=True).raw)"
      ]
    },
    {
      "cell_type": "code",
      "execution_count": 44,
      "metadata": {
        "id": "NAHttHel2Hnc"
      },
      "outputs": [],
      "source": [
        "inputs = processor(images = image, return_tensors = \"pt\")\n",
        "image_features = model.get_image_features(**inputs)"
      ]
    },
    {
      "cell_type": "code",
      "execution_count": 45,
      "metadata": {
        "colab": {
          "base_uri": "https://localhost:8080/"
        },
        "id": "ubsIgpO12Hnc",
        "outputId": "6f935e7d-772f-478e-d8d1-a0276384dfe0"
      },
      "outputs": [
        {
          "output_type": "execute_result",
          "data": {
            "text/plain": [
              "torch.Size([1, 768])"
            ]
          },
          "metadata": {},
          "execution_count": 45
        }
      ],
      "source": [
        "image_features.shape"
      ]
    },
    {
      "cell_type": "markdown",
      "metadata": {
        "id": "oPdjHemB2Hnd"
      },
      "source": [
        "# Solution-CLIP Zeroshot For Image Similarity Search"
      ]
    },
    {
      "cell_type": "markdown",
      "metadata": {
        "id": "q3DCaUkj2Hnd"
      },
      "source": [
        "## Cosine Similarity"
      ]
    },
    {
      "cell_type": "code",
      "execution_count": 46,
      "metadata": {
        "id": "yZptx9qp2Hne"
      },
      "outputs": [],
      "source": [
        "import numpy as np\n",
        "from torch import nn\n",
        "\n",
        "def cosine_similarity (A , B) :\n",
        "\n",
        "    A = np.array(A)\n",
        "    B = np.array(B)\n",
        "\n",
        "    norm_A = np.linalg.norm(A)\n",
        "\n",
        "    similarity_matrix = (A @ B.T).astype('float32') / norm_A\n",
        "\n",
        "    for i in range(B.shape[0]) :\n",
        "\n",
        "        norm_B = np.linalg.norm(B[i])\n",
        "\n",
        "        similarity_matrix[0][i] /= norm_B\n",
        "\n",
        "    similarity_matrix = similarity_matrix.reshape(-1)\n",
        "\n",
        "    # softmax\n",
        "    # similarity_matrix = np.exp(similarity_matrix)/sum(np.exp(similarity_matrix))\n",
        "\n",
        "    target_class = similarity_matrix.argmax(axis = 0)\n",
        "    maximum_similarity = similarity_matrix[target_class]\n",
        "\n",
        "    return maximum_similarity , target_class"
      ]
    },
    {
      "cell_type": "code",
      "source": [
        "print(cosine_similarity(np.array([[1 , 2  ,3]]) , np.array([[1 , 2 , 3] , [3 , 4 , 5]])))"
      ],
      "metadata": {
        "colab": {
          "base_uri": "https://localhost:8080/"
        },
        "id": "mnDP_2Ha4y5U",
        "outputId": "411ed0ab-6340-474c-dee3-a8c1a517b6f9"
      },
      "execution_count": 47,
      "outputs": [
        {
          "output_type": "stream",
          "name": "stdout",
          "text": [
            "(0.99999994, 0)\n"
          ]
        }
      ]
    },
    {
      "cell_type": "markdown",
      "metadata": {
        "id": "1uVdwPmW2Hne"
      },
      "source": [
        "## Define Model CLIP"
      ]
    },
    {
      "cell_type": "code",
      "execution_count": 48,
      "metadata": {
        "id": "3UyyK9jv2Hnf"
      },
      "outputs": [],
      "source": [
        "from PIL import Image\n",
        "import requests\n",
        "from transformers import AutoProcessor , CLIPModel"
      ]
    },
    {
      "cell_type": "markdown",
      "source": [
        "## openai/clip-vit-large-patch14"
      ],
      "metadata": {
        "id": "KziDkp9Bk7OM"
      }
    },
    {
      "cell_type": "code",
      "source": [
        "import torch"
      ],
      "metadata": {
        "id": "4cIr0HCmw_TU"
      },
      "execution_count": 49,
      "outputs": []
    },
    {
      "cell_type": "code",
      "execution_count": 50,
      "metadata": {
        "id": "jmm2dKxB2Hnf"
      },
      "outputs": [],
      "source": [
        "device = \"cuda\" if torch.cuda.is_available() else \"cpu\"\n",
        "\n",
        "model = CLIPModel.from_pretrained('openai/clip-vit-large-patch14').to(device)\n",
        "processor = AutoProcessor.from_pretrained('openai/clip-vit-large-patch14')"
      ]
    },
    {
      "cell_type": "markdown",
      "metadata": {
        "id": "pDSrXcby2Hnf"
      },
      "source": [
        "## Read queries folder image and store to numpy array"
      ]
    },
    {
      "cell_type": "code",
      "execution_count": 51,
      "metadata": {
        "id": "P33PiTk42Hnf"
      },
      "outputs": [],
      "source": [
        "import cv2\n",
        "import os\n",
        "import numpy as np"
      ]
    },
    {
      "cell_type": "code",
      "execution_count": 52,
      "metadata": {
        "id": "Wjn9CX0S2Hnf"
      },
      "outputs": [],
      "source": [
        "refined_queries_path = '/content/drive/MyDrive/SuperAI_SS4/Hackathons/SuperAI_SS4_Level_1/Hack_1_Image_Search/datasets/queries/refined_queries'\n",
        "images = []\n",
        "\n",
        "for file_name in os.listdir(refined_queries_path) :\n",
        "\n",
        "    with open(f'{refined_queries_path}/{file_name}' , 'rb') as file :\n",
        "\n",
        "        image = np.load(file)\n",
        "\n",
        "    images.append(image)\n",
        "\n",
        "inputs = processor(images = images , return_tensors = 'pt').to(device)\n",
        "image_features = model.get_image_features(** inputs)"
      ]
    },
    {
      "cell_type": "code",
      "execution_count": 53,
      "metadata": {
        "id": "vRFyso0z2Hng"
      },
      "outputs": [],
      "source": [
        "image_features = image_features.cpu().detach().numpy()"
      ]
    },
    {
      "cell_type": "code",
      "execution_count": 54,
      "metadata": {
        "id": "PAS0zT892Hng"
      },
      "outputs": [],
      "source": [
        "with open('/content/drive/MyDrive/SuperAI_SS4/Hackathons/SuperAI_SS4_Level_1/Hack_1_Image_Search/database/queries_matrix.npy' , 'wb') as file :\n",
        "\n",
        "    np.save(file , image_features)\n"
      ]
    },
    {
      "cell_type": "markdown",
      "metadata": {
        "id": "ednldmyf2Hng"
      },
      "source": [
        "## Read test folder images to inference"
      ]
    },
    {
      "cell_type": "code",
      "execution_count": 55,
      "metadata": {
        "id": "ryCtyi7O2Hng"
      },
      "outputs": [],
      "source": [
        "from tqdm import tqdm\n",
        "import pandas as pd"
      ]
    },
    {
      "cell_type": "code",
      "execution_count": 56,
      "metadata": {
        "id": "G012beBJ2Hnh"
      },
      "outputs": [],
      "source": [
        "with open('/content/drive/MyDrive/SuperAI_SS4/Hackathons/SuperAI_SS4_Level_1/Hack_1_Image_Search/database/queries_matrix.npy' , 'rb') as file :\n",
        "\n",
        "    queries_matrix = np.load(file)"
      ]
    },
    {
      "cell_type": "code",
      "execution_count": 57,
      "metadata": {
        "colab": {
          "base_uri": "https://localhost:8080/"
        },
        "id": "6rp3eNW12Hnh",
        "outputId": "bdff3033-a82c-4d04-fa01-713ff7b866e6"
      },
      "outputs": [
        {
          "output_type": "execute_result",
          "data": {
            "text/plain": [
              "(22, 768)"
            ]
          },
          "metadata": {},
          "execution_count": 57
        }
      ],
      "source": [
        "queries_matrix.shape"
      ]
    },
    {
      "cell_type": "code",
      "execution_count": 58,
      "metadata": {
        "id": "Fn9btcmA2Hnh"
      },
      "outputs": [],
      "source": [
        "submissions = {\n",
        "    'img_file' : [] ,\n",
        "    'class' : []\n",
        "}"
      ]
    },
    {
      "cell_type": "code",
      "source": [
        "threshold = 0"
      ],
      "metadata": {
        "id": "31x1xIWgc0Wl"
      },
      "execution_count": 59,
      "outputs": []
    },
    {
      "cell_type": "code",
      "source": [
        "test_path = '/content/drive/MyDrive/SuperAI_SS4/Hackathons/SuperAI_SS4_Level_1/Hack_1_Image_Search/datasets/test/images'\n",
        "\n",
        "for file_name in tqdm(os.listdir(test_path)) :\n",
        "\n",
        "    image = cv2.imread(f'{test_path}/{file_name}')\n",
        "    image = refine_image(image)\n",
        "\n",
        "    inputs = processor(images = image , return_tensors = 'pt').to(device)\n",
        "    image_features = model.get_image_features(** inputs)\n",
        "\n",
        "    maximum_similarity , target_class = cosine_similarity(image_features.cpu().detach().numpy() , queries_matrix )\n",
        "\n",
        "    threshold += maximum_similarity"
      ],
      "metadata": {
        "colab": {
          "base_uri": "https://localhost:8080/"
        },
        "id": "cFfxGctgc4PU",
        "outputId": "f0480d72-76ac-4c4d-ca7d-7b6a2ee7a410"
      },
      "execution_count": 60,
      "outputs": [
        {
          "output_type": "stream",
          "name": "stderr",
          "text": [
            "100%|██████████| 1120/1120 [00:49<00:00, 22.52it/s]\n"
          ]
        }
      ]
    },
    {
      "cell_type": "code",
      "source": [
        "threshold /= 1120\n",
        "threshold"
      ],
      "metadata": {
        "colab": {
          "base_uri": "https://localhost:8080/"
        },
        "id": "G8hSKQESc-k_",
        "outputId": "83269566-5f04-4f8e-fc51-03bb1f49683f"
      },
      "execution_count": 61,
      "outputs": [
        {
          "output_type": "execute_result",
          "data": {
            "text/plain": [
              "0.8227814406688724"
            ]
          },
          "metadata": {},
          "execution_count": 61
        }
      ]
    },
    {
      "cell_type": "code",
      "execution_count": 62,
      "metadata": {
        "colab": {
          "base_uri": "https://localhost:8080/"
        },
        "id": "nb7bEOCL2Hni",
        "outputId": "9b4c5638-3f9c-4132-aa32-b785f5d01481"
      },
      "outputs": [
        {
          "output_type": "stream",
          "name": "stderr",
          "text": [
            "100%|██████████| 1120/1120 [00:42<00:00, 26.34it/s]\n"
          ]
        }
      ],
      "source": [
        "test_path = '/content/drive/MyDrive/SuperAI_SS4/Hackathons/SuperAI_SS4_Level_1/Hack_1_Image_Search/datasets/test/images'\n",
        "\n",
        "for file_name in tqdm(os.listdir(test_path)) :\n",
        "\n",
        "    image = cv2.imread(f'{test_path}/{file_name}')\n",
        "    image = refine_image(image)\n",
        "\n",
        "    inputs = processor(images = image , return_tensors = 'pt').to(device)\n",
        "    image_features = model.get_image_features(** inputs)\n",
        "\n",
        "    maximum_similarity , target_class = cosine_similarity(image_features.cpu().detach().numpy() , queries_matrix )\n",
        "\n",
        "    if maximum_similarity < threshold :\n",
        "\n",
        "        target_class = 22\n",
        "\n",
        "    submissions['img_file'].append(file_name)\n",
        "    submissions['class'].append(target_class)"
      ]
    },
    {
      "cell_type": "code",
      "source": [
        "submissions = pd.DataFrame.from_dict(submissions)\n",
        "submissions_path = '/content/drive/MyDrive/SuperAI_SS4/Hackathons/SuperAI_SS4_Level_1/Hack_1_Image_Search/submissions/submissions.csv'\n",
        "\n",
        "with open(submissions_path, 'w') as csv_file:\n",
        "\n",
        "    submissions.to_csv(path_or_buf = csv_file , index = False)"
      ],
      "metadata": {
        "id": "JM26bi1BF8uY"
      },
      "execution_count": 63,
      "outputs": []
    },
    {
      "cell_type": "code",
      "source": [
        "submissions.groupby('class').count()"
      ],
      "metadata": {
        "colab": {
          "base_uri": "https://localhost:8080/",
          "height": 739
        },
        "id": "OgIEU2rPZ4ph",
        "outputId": "9d1fa8df-c9f8-42d4-b4fc-ebac83b97d06"
      },
      "execution_count": 66,
      "outputs": [
        {
          "output_type": "execute_result",
          "data": {
            "text/plain": [
              "       img_file\n",
              "class          \n",
              "0             4\n",
              "1             2\n",
              "2           114\n",
              "3            41\n",
              "4             4\n",
              "5            63\n",
              "6            24\n",
              "7             2\n",
              "8             1\n",
              "9            74\n",
              "10           68\n",
              "11            8\n",
              "12            1\n",
              "13            6\n",
              "14           20\n",
              "15            3\n",
              "18           10\n",
              "19            1\n",
              "20          194\n",
              "21            3\n",
              "22          477"
            ],
            "text/html": [
              "\n",
              "  <div id=\"df-1e1e3a3d-6e01-46d1-b9e0-97f2f9f0e16d\" class=\"colab-df-container\">\n",
              "    <div>\n",
              "<style scoped>\n",
              "    .dataframe tbody tr th:only-of-type {\n",
              "        vertical-align: middle;\n",
              "    }\n",
              "\n",
              "    .dataframe tbody tr th {\n",
              "        vertical-align: top;\n",
              "    }\n",
              "\n",
              "    .dataframe thead th {\n",
              "        text-align: right;\n",
              "    }\n",
              "</style>\n",
              "<table border=\"1\" class=\"dataframe\">\n",
              "  <thead>\n",
              "    <tr style=\"text-align: right;\">\n",
              "      <th></th>\n",
              "      <th>img_file</th>\n",
              "    </tr>\n",
              "    <tr>\n",
              "      <th>class</th>\n",
              "      <th></th>\n",
              "    </tr>\n",
              "  </thead>\n",
              "  <tbody>\n",
              "    <tr>\n",
              "      <th>0</th>\n",
              "      <td>4</td>\n",
              "    </tr>\n",
              "    <tr>\n",
              "      <th>1</th>\n",
              "      <td>2</td>\n",
              "    </tr>\n",
              "    <tr>\n",
              "      <th>2</th>\n",
              "      <td>114</td>\n",
              "    </tr>\n",
              "    <tr>\n",
              "      <th>3</th>\n",
              "      <td>41</td>\n",
              "    </tr>\n",
              "    <tr>\n",
              "      <th>4</th>\n",
              "      <td>4</td>\n",
              "    </tr>\n",
              "    <tr>\n",
              "      <th>5</th>\n",
              "      <td>63</td>\n",
              "    </tr>\n",
              "    <tr>\n",
              "      <th>6</th>\n",
              "      <td>24</td>\n",
              "    </tr>\n",
              "    <tr>\n",
              "      <th>7</th>\n",
              "      <td>2</td>\n",
              "    </tr>\n",
              "    <tr>\n",
              "      <th>8</th>\n",
              "      <td>1</td>\n",
              "    </tr>\n",
              "    <tr>\n",
              "      <th>9</th>\n",
              "      <td>74</td>\n",
              "    </tr>\n",
              "    <tr>\n",
              "      <th>10</th>\n",
              "      <td>68</td>\n",
              "    </tr>\n",
              "    <tr>\n",
              "      <th>11</th>\n",
              "      <td>8</td>\n",
              "    </tr>\n",
              "    <tr>\n",
              "      <th>12</th>\n",
              "      <td>1</td>\n",
              "    </tr>\n",
              "    <tr>\n",
              "      <th>13</th>\n",
              "      <td>6</td>\n",
              "    </tr>\n",
              "    <tr>\n",
              "      <th>14</th>\n",
              "      <td>20</td>\n",
              "    </tr>\n",
              "    <tr>\n",
              "      <th>15</th>\n",
              "      <td>3</td>\n",
              "    </tr>\n",
              "    <tr>\n",
              "      <th>18</th>\n",
              "      <td>10</td>\n",
              "    </tr>\n",
              "    <tr>\n",
              "      <th>19</th>\n",
              "      <td>1</td>\n",
              "    </tr>\n",
              "    <tr>\n",
              "      <th>20</th>\n",
              "      <td>194</td>\n",
              "    </tr>\n",
              "    <tr>\n",
              "      <th>21</th>\n",
              "      <td>3</td>\n",
              "    </tr>\n",
              "    <tr>\n",
              "      <th>22</th>\n",
              "      <td>477</td>\n",
              "    </tr>\n",
              "  </tbody>\n",
              "</table>\n",
              "</div>\n",
              "    <div class=\"colab-df-buttons\">\n",
              "\n",
              "  <div class=\"colab-df-container\">\n",
              "    <button class=\"colab-df-convert\" onclick=\"convertToInteractive('df-1e1e3a3d-6e01-46d1-b9e0-97f2f9f0e16d')\"\n",
              "            title=\"Convert this dataframe to an interactive table.\"\n",
              "            style=\"display:none;\">\n",
              "\n",
              "  <svg xmlns=\"http://www.w3.org/2000/svg\" height=\"24px\" viewBox=\"0 -960 960 960\">\n",
              "    <path d=\"M120-120v-720h720v720H120Zm60-500h600v-160H180v160Zm220 220h160v-160H400v160Zm0 220h160v-160H400v160ZM180-400h160v-160H180v160Zm440 0h160v-160H620v160ZM180-180h160v-160H180v160Zm440 0h160v-160H620v160Z\"/>\n",
              "  </svg>\n",
              "    </button>\n",
              "\n",
              "  <style>\n",
              "    .colab-df-container {\n",
              "      display:flex;\n",
              "      gap: 12px;\n",
              "    }\n",
              "\n",
              "    .colab-df-convert {\n",
              "      background-color: #E8F0FE;\n",
              "      border: none;\n",
              "      border-radius: 50%;\n",
              "      cursor: pointer;\n",
              "      display: none;\n",
              "      fill: #1967D2;\n",
              "      height: 32px;\n",
              "      padding: 0 0 0 0;\n",
              "      width: 32px;\n",
              "    }\n",
              "\n",
              "    .colab-df-convert:hover {\n",
              "      background-color: #E2EBFA;\n",
              "      box-shadow: 0px 1px 2px rgba(60, 64, 67, 0.3), 0px 1px 3px 1px rgba(60, 64, 67, 0.15);\n",
              "      fill: #174EA6;\n",
              "    }\n",
              "\n",
              "    .colab-df-buttons div {\n",
              "      margin-bottom: 4px;\n",
              "    }\n",
              "\n",
              "    [theme=dark] .colab-df-convert {\n",
              "      background-color: #3B4455;\n",
              "      fill: #D2E3FC;\n",
              "    }\n",
              "\n",
              "    [theme=dark] .colab-df-convert:hover {\n",
              "      background-color: #434B5C;\n",
              "      box-shadow: 0px 1px 3px 1px rgba(0, 0, 0, 0.15);\n",
              "      filter: drop-shadow(0px 1px 2px rgba(0, 0, 0, 0.3));\n",
              "      fill: #FFFFFF;\n",
              "    }\n",
              "  </style>\n",
              "\n",
              "    <script>\n",
              "      const buttonEl =\n",
              "        document.querySelector('#df-1e1e3a3d-6e01-46d1-b9e0-97f2f9f0e16d button.colab-df-convert');\n",
              "      buttonEl.style.display =\n",
              "        google.colab.kernel.accessAllowed ? 'block' : 'none';\n",
              "\n",
              "      async function convertToInteractive(key) {\n",
              "        const element = document.querySelector('#df-1e1e3a3d-6e01-46d1-b9e0-97f2f9f0e16d');\n",
              "        const dataTable =\n",
              "          await google.colab.kernel.invokeFunction('convertToInteractive',\n",
              "                                                    [key], {});\n",
              "        if (!dataTable) return;\n",
              "\n",
              "        const docLinkHtml = 'Like what you see? Visit the ' +\n",
              "          '<a target=\"_blank\" href=https://colab.research.google.com/notebooks/data_table.ipynb>data table notebook</a>'\n",
              "          + ' to learn more about interactive tables.';\n",
              "        element.innerHTML = '';\n",
              "        dataTable['output_type'] = 'display_data';\n",
              "        await google.colab.output.renderOutput(dataTable, element);\n",
              "        const docLink = document.createElement('div');\n",
              "        docLink.innerHTML = docLinkHtml;\n",
              "        element.appendChild(docLink);\n",
              "      }\n",
              "    </script>\n",
              "  </div>\n",
              "\n",
              "\n",
              "<div id=\"df-6ad7b779-2b92-4334-ab58-3a0f9c98de6a\">\n",
              "  <button class=\"colab-df-quickchart\" onclick=\"quickchart('df-6ad7b779-2b92-4334-ab58-3a0f9c98de6a')\"\n",
              "            title=\"Suggest charts\"\n",
              "            style=\"display:none;\">\n",
              "\n",
              "<svg xmlns=\"http://www.w3.org/2000/svg\" height=\"24px\"viewBox=\"0 0 24 24\"\n",
              "     width=\"24px\">\n",
              "    <g>\n",
              "        <path d=\"M19 3H5c-1.1 0-2 .9-2 2v14c0 1.1.9 2 2 2h14c1.1 0 2-.9 2-2V5c0-1.1-.9-2-2-2zM9 17H7v-7h2v7zm4 0h-2V7h2v10zm4 0h-2v-4h2v4z\"/>\n",
              "    </g>\n",
              "</svg>\n",
              "  </button>\n",
              "\n",
              "<style>\n",
              "  .colab-df-quickchart {\n",
              "      --bg-color: #E8F0FE;\n",
              "      --fill-color: #1967D2;\n",
              "      --hover-bg-color: #E2EBFA;\n",
              "      --hover-fill-color: #174EA6;\n",
              "      --disabled-fill-color: #AAA;\n",
              "      --disabled-bg-color: #DDD;\n",
              "  }\n",
              "\n",
              "  [theme=dark] .colab-df-quickchart {\n",
              "      --bg-color: #3B4455;\n",
              "      --fill-color: #D2E3FC;\n",
              "      --hover-bg-color: #434B5C;\n",
              "      --hover-fill-color: #FFFFFF;\n",
              "      --disabled-bg-color: #3B4455;\n",
              "      --disabled-fill-color: #666;\n",
              "  }\n",
              "\n",
              "  .colab-df-quickchart {\n",
              "    background-color: var(--bg-color);\n",
              "    border: none;\n",
              "    border-radius: 50%;\n",
              "    cursor: pointer;\n",
              "    display: none;\n",
              "    fill: var(--fill-color);\n",
              "    height: 32px;\n",
              "    padding: 0;\n",
              "    width: 32px;\n",
              "  }\n",
              "\n",
              "  .colab-df-quickchart:hover {\n",
              "    background-color: var(--hover-bg-color);\n",
              "    box-shadow: 0 1px 2px rgba(60, 64, 67, 0.3), 0 1px 3px 1px rgba(60, 64, 67, 0.15);\n",
              "    fill: var(--button-hover-fill-color);\n",
              "  }\n",
              "\n",
              "  .colab-df-quickchart-complete:disabled,\n",
              "  .colab-df-quickchart-complete:disabled:hover {\n",
              "    background-color: var(--disabled-bg-color);\n",
              "    fill: var(--disabled-fill-color);\n",
              "    box-shadow: none;\n",
              "  }\n",
              "\n",
              "  .colab-df-spinner {\n",
              "    border: 2px solid var(--fill-color);\n",
              "    border-color: transparent;\n",
              "    border-bottom-color: var(--fill-color);\n",
              "    animation:\n",
              "      spin 1s steps(1) infinite;\n",
              "  }\n",
              "\n",
              "  @keyframes spin {\n",
              "    0% {\n",
              "      border-color: transparent;\n",
              "      border-bottom-color: var(--fill-color);\n",
              "      border-left-color: var(--fill-color);\n",
              "    }\n",
              "    20% {\n",
              "      border-color: transparent;\n",
              "      border-left-color: var(--fill-color);\n",
              "      border-top-color: var(--fill-color);\n",
              "    }\n",
              "    30% {\n",
              "      border-color: transparent;\n",
              "      border-left-color: var(--fill-color);\n",
              "      border-top-color: var(--fill-color);\n",
              "      border-right-color: var(--fill-color);\n",
              "    }\n",
              "    40% {\n",
              "      border-color: transparent;\n",
              "      border-right-color: var(--fill-color);\n",
              "      border-top-color: var(--fill-color);\n",
              "    }\n",
              "    60% {\n",
              "      border-color: transparent;\n",
              "      border-right-color: var(--fill-color);\n",
              "    }\n",
              "    80% {\n",
              "      border-color: transparent;\n",
              "      border-right-color: var(--fill-color);\n",
              "      border-bottom-color: var(--fill-color);\n",
              "    }\n",
              "    90% {\n",
              "      border-color: transparent;\n",
              "      border-bottom-color: var(--fill-color);\n",
              "    }\n",
              "  }\n",
              "</style>\n",
              "\n",
              "  <script>\n",
              "    async function quickchart(key) {\n",
              "      const quickchartButtonEl =\n",
              "        document.querySelector('#' + key + ' button');\n",
              "      quickchartButtonEl.disabled = true;  // To prevent multiple clicks.\n",
              "      quickchartButtonEl.classList.add('colab-df-spinner');\n",
              "      try {\n",
              "        const charts = await google.colab.kernel.invokeFunction(\n",
              "            'suggestCharts', [key], {});\n",
              "      } catch (error) {\n",
              "        console.error('Error during call to suggestCharts:', error);\n",
              "      }\n",
              "      quickchartButtonEl.classList.remove('colab-df-spinner');\n",
              "      quickchartButtonEl.classList.add('colab-df-quickchart-complete');\n",
              "    }\n",
              "    (() => {\n",
              "      let quickchartButtonEl =\n",
              "        document.querySelector('#df-6ad7b779-2b92-4334-ab58-3a0f9c98de6a button');\n",
              "      quickchartButtonEl.style.display =\n",
              "        google.colab.kernel.accessAllowed ? 'block' : 'none';\n",
              "    })();\n",
              "  </script>\n",
              "</div>\n",
              "    </div>\n",
              "  </div>\n"
            ],
            "application/vnd.google.colaboratory.intrinsic+json": {
              "type": "dataframe",
              "summary": "{\n  \"name\": \"submissions\",\n  \"rows\": 21,\n  \"fields\": [\n    {\n      \"column\": \"class\",\n      \"properties\": {\n        \"dtype\": \"number\",\n        \"std\": 6,\n        \"min\": 0,\n        \"max\": 22,\n        \"num_unique_values\": 21,\n        \"samples\": [\n          0,\n          19,\n          15\n        ],\n        \"semantic_type\": \"\",\n        \"description\": \"\"\n      }\n    },\n    {\n      \"column\": \"img_file\",\n      \"properties\": {\n        \"dtype\": \"number\",\n        \"std\": 108,\n        \"min\": 1,\n        \"max\": 477,\n        \"num_unique_values\": 16,\n        \"samples\": [\n          4,\n          2,\n          24\n        ],\n        \"semantic_type\": \"\",\n        \"description\": \"\"\n      }\n    }\n  ]\n}"
            }
          },
          "metadata": {},
          "execution_count": 66
        }
      ]
    },
    {
      "cell_type": "code",
      "source": [
        "!kaggle competitions submit -c image-search -f '/content/drive/MyDrive/SuperAI_SS4/SuperAI_SS4_Level_1/Hack_1_Image_Search/submissions/submission.csv' -m \"submit\""
      ],
      "metadata": {
        "id": "b9B39W6bF_mf",
        "colab": {
          "base_uri": "https://localhost:8080/"
        },
        "outputId": "47e49287-01aa-4463-f0b1-8937a5d6d28a"
      },
      "execution_count": 65,
      "outputs": [
        {
          "output_type": "stream",
          "name": "stdout",
          "text": [
            "Traceback (most recent call last):\n",
            "  File \"/usr/local/bin/kaggle\", line 8, in <module>\n",
            "    sys.exit(main())\n",
            "  File \"/usr/local/lib/python3.10/dist-packages/kaggle/cli.py\", line 54, in main\n",
            "    out = args.func(**command_args)\n",
            "  File \"/usr/local/lib/python3.10/dist-packages/kaggle/api/kaggle_api_extended.py\", line 806, in competition_submit_cli\n",
            "    submit_result = self.competition_submit(file_name, message,\n",
            "  File \"/usr/local/lib/python3.10/dist-packages/kaggle/api/kaggle_api_extended.py\", line 757, in competition_submit\n",
            "    content_length=os.path.getsize(file_name),\n",
            "  File \"/usr/lib/python3.10/genericpath.py\", line 50, in getsize\n",
            "    return os.stat(filename).st_size\n",
            "FileNotFoundError: [Errno 2] No such file or directory: '/content/drive/MyDrive/SuperAI_SS4/SuperAI_SS4_Level_1/Hack_1_Image_Search/submissions/submission.csv'\n"
          ]
        }
      ]
    }
  ],
  "metadata": {
    "kernelspec": {
      "display_name": "Python 3",
      "name": "python3"
    },
    "language_info": {
      "codemirror_mode": {
        "name": "ipython",
        "version": 3
      },
      "file_extension": ".py",
      "mimetype": "text/x-python",
      "name": "python",
      "nbconvert_exporter": "python",
      "pygments_lexer": "ipython3",
      "version": "3.11.7"
    },
    "colab": {
      "provenance": [],
      "machine_shape": "hm",
      "gpuType": "L4",
      "include_colab_link": true
    },
    "accelerator": "GPU"
  },
  "nbformat": 4,
  "nbformat_minor": 0
}